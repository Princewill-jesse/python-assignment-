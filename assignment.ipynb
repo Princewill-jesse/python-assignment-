{
 "cells": [
  {
   "cell_type": "markdown",
   "id": "c26e80b0",
   "metadata": {},
   "source": [
    "# ASSIGNMENT 1"
   ]
  },
  {
   "cell_type": "code",
   "execution_count": 3,
   "id": "82dece4d",
   "metadata": {},
   "outputs": [
    {
     "name": "stdout",
     "output_type": "stream",
     "text": [
      "33\n"
     ]
    }
   ],
   "source": [
    "import random\n",
    "x = random.randint(0,50)\n",
    "print(x)"
   ]
  },
  {
   "cell_type": "code",
   "execution_count": 10,
   "id": "8f917cc4",
   "metadata": {},
   "outputs": [
    {
     "name": "stdout",
     "output_type": "stream",
     "text": [
      "X =  9\n",
      "Y =  5\n",
      "59049\n"
     ]
    }
   ],
   "source": [
    "import random \n",
    "x = random.randint(1,50)\n",
    "y = random.randint(2,5)\n",
    "z= x**y\n",
    "print(z)"
   ]
  },
  {
   "cell_type": "code",
   "execution_count": 17,
   "id": "4ce0bac9",
   "metadata": {},
   "outputs": [
    {
     "name": "stdout",
     "output_type": "stream",
     "text": [
      "jessejessejesse\n"
     ]
    }
   ],
   "source": [
    "import random \n",
    "x = random.randint(1,10)\n",
    "y = 'jesse'\n",
    "z = (y * x)\n",
    "print(z)"
   ]
  },
  {
   "cell_type": "code",
   "execution_count": 25,
   "id": "92c20046",
   "metadata": {},
   "outputs": [
    {
     "name": "stdout",
     "output_type": "stream",
     "text": [
      "3\n"
     ]
    }
   ],
   "source": [
    "import random \n",
    "x = round(random.uniform(1,10),2)\n",
    "print(x)"
   ]
  },
  {
   "cell_type": "code",
   "execution_count": 38,
   "id": "40163846",
   "metadata": {
    "scrolled": true
   },
   "outputs": [
    {
     "name": "stdout",
     "output_type": "stream",
     "text": [
      "7\n"
     ]
    }
   ],
   "source": [
    "import random \n",
    "print (random.randrange(4,9))"
   ]
  },
  {
   "cell_type": "code",
   "execution_count": null,
   "id": "8f56f1a8",
   "metadata": {},
   "outputs": [],
   "source": [
    "import random \n",
    "a = random.randint(0,50)\n",
    "b = (random.randrange(4,9))\n",
    "c = \n",
    "print "
   ]
  },
  {
   "cell_type": "code",
   "execution_count": 39,
   "id": "86559560",
   "metadata": {},
   "outputs": [
    {
     "name": "stdout",
     "output_type": "stream",
     "text": [
      "[3, 6, 6, 4, 3, 4, 5, 2, 2, 3, 3, 6, 2, 3, 9, 9, 7, 6, 2, 9, 3, 7, 2, 9, 3, 3, 6, 3, 7, 3, 2, 7, 8, 4, 5, 3, 2, 9, 7, 4, 7, 2, 3, 9, 9, 3, 3, 4, 4, 9]\n"
     ]
    }
   ],
   "source": [
    "import random\n",
    "z = []\n",
    "for i in range(0,50):\n",
    "    x = random.randint(2,9)\n",
    "    z.append(x)\n",
    "print(z)"
   ]
  },
  {
   "cell_type": "code",
   "execution_count": 70,
   "id": "4f6b7785",
   "metadata": {},
   "outputs": [
    {
     "name": "stdout",
     "output_type": "stream",
     "text": [
      "(2, 2, 2, 23)\n"
     ]
    }
   ],
   "source": [
    "import random\n",
    "x = []\n",
    "for i in range(0,50):\n",
    "    a = random.randint(1,2)\n",
    "    b = random.randint(1,3)\n",
    "    c = random.randint(1,4)\n",
    "    d = random.randint(1,50)\n",
    "y = (a,b,c,d)\n",
    "x.append(y)  \n",
    "print(x)\n"
   ]
  },
  {
   "cell_type": "code",
   "execution_count": 78,
   "id": "50e68af1",
   "metadata": {},
   "outputs": [
    {
     "name": "stdout",
     "output_type": "stream",
     "text": [
      "enter first digit 5\n",
      "enter first digit 8\n",
      "-0.23076923076923078\n"
     ]
    }
   ],
   "source": [
    "x = int(input(f'enter first digit '))\n",
    "y = int(input(f\"enter first digit \"))\n",
    "print((x-y)/(x+y))\n"
   ]
  },
  {
   "cell_type": "code",
   "execution_count": null,
   "id": "6d756d24",
   "metadata": {},
   "outputs": [
    {
     "name": "stdout",
     "output_type": "stream",
     "text": [
      "enter a number: 56\n",
      "56\n"
     ]
    }
   ],
   "source": [
    "while(True):\n",
    "    in_num = int(input(\"enter a number: \"))\n",
    "    if in_num not in range(-180,180):\n",
    "        print(\"enter a valid number between -180 and 180\")\n",
    "    if in_num in range(-180,180):\n",
    "        print(in_num%360)\n",
    "else: do_you_logic()"
   ]
  },
  {
   "cell_type": "markdown",
   "id": "b59c5aa3",
   "metadata": {},
   "source": [
    "# ASSIGNMENT 3"
   ]
  },
  {
   "cell_type": "code",
   "execution_count": 64,
   "id": "85609dd0",
   "metadata": {},
   "outputs": [
    {
     "name": "stdout",
     "output_type": "stream",
     "text": [
      "number of seconds : 12601\n",
      "210:01\n"
     ]
    }
   ],
   "source": [
    "x = int(input(f\"number of seconds : \"))\n",
    "\n",
    "seconds = x % (24 * 3600)\n",
    "hour = (seconds// 3600) * 60 \n",
    "seconds %= 3600 \n",
    "minutes = seconds // 60 + hour\n",
    "seconds %= 60\n",
    "\n",
    "print(\"%d:%02d\" % (minutes, seconds ))"
   ]
  },
  {
   "cell_type": "code",
   "execution_count": 25,
   "id": "89bede9b",
   "metadata": {
    "scrolled": true
   },
   "outputs": [
    {
     "name": "stdout",
     "output_type": "stream",
     "text": [
      "time 1: 5\n",
      "time 2: 9\n",
      "02:00:00 PM\n"
     ]
    }
   ],
   "source": [
    "x = int(input(\"time 1: \"))\n",
    "y = int(input(\"time 2: \"))\n",
    "z = str(x+y)\n",
    "\n",
    "from datetime import datetime \n",
    "s = datetime.strptime(z, \"%H\")\n",
    "print(s.strftime(\"%r\"))\n",
    "\n",
    "\n"
   ]
  },
  {
   "cell_type": "code",
   "execution_count": 1,
   "id": "78b56de9",
   "metadata": {
    "scrolled": true
   },
   "outputs": [
    {
     "name": "stdout",
     "output_type": "stream",
     "text": [
      "enter weight input value: 45\n",
      "enter unit kg/lb: kg\n",
      "the temperature value from 45.0kg is 99.225pounds\n"
     ]
    }
   ],
   "source": [
    "temp_value = float(input(\"enter weight input value: \"))\n",
    "unit = input(\"enter unit kg/lb: \").lower()\n",
    "if unit == \"kg\":\n",
    "    pounds = round(2.205 * (temp_value), 10)\n",
    "    print(f\"the temperature value from {temp_value}{unit} is {pounds}pounds\")\n",
    "\n",
    "elif unit == \"lb\":\n",
    "    kg = round(2.205 / (temp_value), 10)\n",
    "    print(f\"the temperature value from {temp_value}{unit} is {kg}kg\")\n",
    "\n",
    "else:\n",
    "    print(\"input not understood!!!!\")"
   ]
  },
  {
   "cell_type": "code",
   "execution_count": 2,
   "id": "4e7b0706",
   "metadata": {},
   "outputs": [
    {
     "name": "stdout",
     "output_type": "stream",
     "text": [
      "enter weight input value: 1\n",
      "2.205\n"
     ]
    }
   ],
   "source": [
    "temp_value = float(input(\"enter weight input value: \"))\n",
    "pounds = round(2.205 * (temp_value), 10)\n",
    "print(pounds)\n",
    "\n"
   ]
  },
  {
   "cell_type": "code",
   "execution_count": 6,
   "id": "af3245f3",
   "metadata": {},
   "outputs": [],
   "source": [
    "\n"
   ]
  },
  {
   "cell_type": "code",
   "execution_count": null,
   "id": "e4caa626",
   "metadata": {},
   "outputs": [],
   "source": []
  },
  {
   "cell_type": "code",
   "execution_count": null,
   "id": "1e5b1c05",
   "metadata": {},
   "outputs": [],
   "source": []
  }
 ],
 "metadata": {
  "celltoolbar": "Edit Metadata",
  "kernelspec": {
   "display_name": "Python 3 (ipykernel)",
   "language": "python",
   "name": "python3"
  },
  "language_info": {
   "codemirror_mode": {
    "name": "ipython",
    "version": 3
   },
   "file_extension": ".py",
   "mimetype": "text/x-python",
   "name": "python",
   "nbconvert_exporter": "python",
   "pygments_lexer": "ipython3",
   "version": "3.9.13"
  }
 },
 "nbformat": 4,
 "nbformat_minor": 5
}
